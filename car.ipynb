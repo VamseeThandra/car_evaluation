{
 "cells": [
  {
   "cell_type": "code",
   "execution_count": 202,
   "id": "fdbeb9f1",
   "metadata": {},
   "outputs": [],
   "source": [
    "import numpy as np\n",
    "import math\n",
    "from sklearn.model_selection import KFold\n",
    "import random"
   ]
  },
  {
   "cell_type": "code",
   "execution_count": 203,
   "id": "69e9cf3c",
   "metadata": {},
   "outputs": [
    {
     "name": "stdout",
     "output_type": "stream",
     "text": [
      "['vhigh,vhigh,2,2,small,low,unacc', 'vhigh,vhigh,2,2,small,med,unacc', 'vhigh,vhigh,2,2,small,high,unacc', 'vhigh,vhigh,2,2,med,low,unacc', 'vhigh,vhigh,2,2,med,med,unacc', 'vhigh,vhigh,2,2,med,high,unacc', 'vhigh,vhigh,2,2,big,low,unacc', 'vhigh,vhigh,2,2,big,med,unacc', 'vhigh,vhigh,2,2,big,high,unacc', 'vhigh,vhigh,2,4,small,low,unacc']\n",
      "data has been loaded successfully\n"
     ]
    }
   ],
   "source": [
    "#Read the data\n",
    "file=open('car.data','r')\n",
    "rows=file.read()\n",
    "rows=rows.split('\\n')\n",
    "#deleting unwanted dat strings\n",
    "rows.pop()\n",
    "print(rows[0:10])\n",
    "print('data has been loaded successfully')"
   ]
  },
  {
   "cell_type": "code",
   "execution_count": 204,
   "id": "d5687ab1",
   "metadata": {},
   "outputs": [],
   "source": [
    "# initialising list for pre-defined values for indices\n",
    "buying=['vhigh','high','med','low']\n",
    "doors=['2','3','4','5more']\n",
    "persons=['2','4','more']\n",
    "lug_boot=['small','med','big']\n",
    "safety=['low','med','high']\n",
    "cls=['unacc','acc','good','vgood']\n",
    "dataset=[]"
   ]
  },
  {
   "cell_type": "code",
   "execution_count": 205,
   "id": "e6511236",
   "metadata": {},
   "outputs": [],
   "source": [
    "def data_preprocess(row):\n",
    "    row_data=list(row.split(','))\n",
    "    row_data=list(row.split(','))\n",
    "    row_data[0]=buying.index(row_data[0])+1\n",
    "    row_data[1]=buying.index(row_data[1])+1\n",
    "    row_data[2]=doors.index(row_data[2])+1\n",
    "    row_data[3]=persons.index(row_data[3])+1\n",
    "    row_data[4]=lug_boot.index(row_data[4])+1\n",
    "    \n",
    "\n",
    "    if row_data[5] !='?':\n",
    "        \n",
    "        row_data[5]=safety.index(row_data[5])+1\n",
    "    else:\n",
    "        row_data[5]=0\n",
    "        \n",
    "    row_data[6]=cls.index(row_data[6])+1\n",
    "    \n",
    "    return row_data"
   ]
  },
  {
   "cell_type": "code",
   "execution_count": 206,
   "id": "ce351998",
   "metadata": {},
   "outputs": [
    {
     "data": {
      "text/plain": [
       "[[1, 1, 1, 1, 1, 1, 1],\n",
       " [1, 1, 1, 1, 1, 2, 1],\n",
       " [1, 1, 1, 1, 1, 3, 1],\n",
       " [1, 1, 1, 1, 2, 1, 1],\n",
       " [1, 1, 1, 1, 2, 2, 1],\n",
       " [1, 1, 1, 1, 2, 3, 1],\n",
       " [1, 1, 1, 1, 3, 1, 1],\n",
       " [1, 1, 1, 1, 3, 2, 1],\n",
       " [1, 1, 1, 1, 3, 3, 1],\n",
       " [1, 1, 1, 2, 1, 1, 1]]"
      ]
     },
     "execution_count": 206,
     "metadata": {},
     "output_type": "execute_result"
    }
   ],
   "source": [
    "#preprocessing the data by row\n",
    "dataset = []\n",
    "for row in rows:\n",
    "    dataset.append(data_preprocess(row))\n",
    "dataset[0:10]"
   ]
  },
  {
   "cell_type": "code",
   "execution_count": 207,
   "id": "6ef66ba7",
   "metadata": {},
   "outputs": [],
   "source": [
    "#separate data by class\n",
    "def separate_data_by_class(dataset):\n",
    "    data_seg = {}\n",
    "    for dt in dataset: \n",
    "        cls = dt[-1]\n",
    "        if cls not in data_seg:\n",
    "            data_seg[cls] = []\n",
    "        data_seg[cls].append(dt)\n",
    "    return data_seg"
   ]
  },
  {
   "cell_type": "code",
   "execution_count": 208,
   "id": "5a024fdf",
   "metadata": {},
   "outputs": [],
   "source": [
    "#data summarization\n",
    "def summarize_data(dataset):\n",
    "    summary =[(np.mean(col),np.std(col),len(col)) for col in zip(*dataset)]\n",
    "    del summary[-1]\n",
    "    return summary"
   ]
  },
  {
   "cell_type": "code",
   "execution_count": 209,
   "id": "23d55fef",
   "metadata": {},
   "outputs": [],
   "source": [
    "#data summarization by class\n",
    "def summarizing_data_by_cls(dataset):\n",
    "    data_seg = separate_data_by_class(dataset)\n",
    "    data_summaries = {}\n",
    "    for cls ,row in data_seg.items():\n",
    "        data_summaries[cls] = summarize_data(row)\n",
    "    return data_summaries"
   ]
  },
  {
   "cell_type": "code",
   "execution_count": 210,
   "id": "3a6a9a08",
   "metadata": {},
   "outputs": [],
   "source": [
    "#gaussian implementation\n",
    "def gaussian(x,mean,std):\n",
    "    try:\n",
    "        gaussian=(1/(std*math.sqrt(2*math.pi)))*(math.exp(-(x-mean)**2/(2*std**2)))\n",
    "        return gaussian\n",
    "    except:\n",
    "        return 0.01"
   ]
  },
  {
   "cell_type": "code",
   "execution_count": 211,
   "id": "1c2d73df",
   "metadata": {},
   "outputs": [],
   "source": [
    "#gaussian by class\n",
    "def gaussian_by_cls(data_summaries,row):\n",
    "    probs={}\n",
    "    no_of_rows= sum([data_summaries[x][0][2] for x in data_summaries])\n",
    "    for cls,cls_summaries in data_summaries.items():\n",
    "        probs[cls]= 1\n",
    "        for i in range(len(cls_summaries)):\n",
    "            probs[cls]+=math.log(gaussian(row[i],cls_summaries[i][0],cls_summaries[i][1]))\n",
    "    return probs\n"
   ]
  },
  {
   "cell_type": "code",
   "execution_count": 212,
   "id": "70731232",
   "metadata": {},
   "outputs": [],
   "source": [
    "# predicting cls row wise\n",
    "def predict(cls_summaries, row):\n",
    "    probs=gaussian_by_cls(cls_summaries,row)\n",
    "    best_cls, best_prob = None ,-1\n",
    "    for cls, prob in probs.items():\n",
    "        if best_cls==None or prob>best_prob:\n",
    "            best_cls,best_prob=cls,prob \n",
    "    return best_cls"
   ]
  },
  {
   "cell_type": "code",
   "execution_count": 213,
   "id": "2bb5af02",
   "metadata": {},
   "outputs": [],
   "source": [
    "\n",
    "#acuuracy of the value\n",
    "def accuracy(actual,predict):\n",
    "    crct_count= len([i for i,j in zip(actual,predict) if i==j])\n",
    "    acc=crct_count/float(len(actual))*100\n",
    "    return acc"
   ]
  },
  {
   "cell_type": "code",
   "execution_count": 214,
   "id": "acd61117",
   "metadata": {},
   "outputs": [],
   "source": [
    "#navie_bayes\n",
    "def navie_bayes(train, test):\n",
    "    cls_summaries = summarizing_data_by_cls(train)\n",
    "    predictions=[]\n",
    "    for r in test:\n",
    "        predictions.append(predict(cls_summaries,row))\n",
    "    return predictions"
   ]
  },
  {
   "cell_type": "code",
   "execution_count": 215,
   "id": "2c3712e4",
   "metadata": {},
   "outputs": [],
   "source": [
    "#K_folds\n",
    "def K_fold_splits(dataset, no_of_splits):\n",
    "    size_of_fold=int(len(dataset)/no_of_splits)\n",
    "    copy_dataset= list(dataset)\n",
    "    folds=[]\n",
    "    for _ in range(no_of_splits):\n",
    "        fold=[]\n",
    "        while len(fold)<size_of_fold:\n",
    "            r_idx= random.randrange(len(copy_dataset))\n",
    "            fold.append(copy_dataset.pop(r_idx))\n",
    "        folds.append(fold)\n",
    "    return folds"
   ]
  },
  {
   "cell_type": "code",
   "execution_count": 201,
   "id": "20288b59",
   "metadata": {},
   "outputs": [
    {
     "name": "stdout",
     "output_type": "stream",
     "text": [
      "dataset length: 1728\n",
      "In 10 folds test\n",
      "length of train data: 1548\n",
      "length of test data: 172\n",
      "length of train data: 1548\n",
      "length of test data: 172\n",
      "length of train data: 1548\n",
      "length of test data: 172\n",
      "length of train data: 1548\n",
      "length of test data: 172\n",
      "length of train data: 1548\n",
      "length of test data: 172\n",
      "length of train data: 1548\n",
      "length of test data: 172\n",
      "length of train data: 1548\n",
      "length of test data: 172\n",
      "length of train data: 1548\n",
      "length of test data: 172\n",
      "length of train data: 1548\n",
      "length of test data: 172\n",
      "length of train data: 1548\n",
      "length of test data: 172\n",
      "model_accuracy: 35.75581395348837\n"
     ]
    },
    {
     "name": "stderr",
     "output_type": "stream",
     "text": [
      "C:\\Users\\vamse\\AppData\\Local\\Temp/ipykernel_10892/3554333303.py:4: RuntimeWarning: divide by zero encountered in double_scalars\n",
      "  gaussian=(1/(std*math.sqrt(2*math.pi)))*(math.exp(-(x-mean)**2/(2*std**2)))\n",
      "C:\\Users\\vamse\\AppData\\Local\\Temp/ipykernel_10892/3554333303.py:4: RuntimeWarning: invalid value encountered in double_scalars\n",
      "  gaussian=(1/(std*math.sqrt(2*math.pi)))*(math.exp(-(x-mean)**2/(2*std**2)))\n"
     ]
    }
   ],
   "source": [
    "print('dataset length:',len(dataset))\n",
    "no_of_folds =10\n",
    "print('In',no_of_folds,'folds test')\n",
    "folds =K_fold_splits(dataset, no_of_folds)\n",
    "accuracies =[]\n",
    "for fold in folds:\n",
    "    train = list(folds)\n",
    "    train.remove (fold)\n",
    "    train_set = []\n",
    "    for idx in range(len(train)):\n",
    "        train_set= train_set + train[idx]\n",
    "    actual_set= []\n",
    "    for row in fold:\n",
    "        actual_set.append(row[-1])\n",
    "    test_set=[]\n",
    "    for row in fold:\n",
    "        test_set.append(row)\n",
    "    print('length of train data:',len(train_set))\n",
    "    print('length of test data:',len(test_set))\n",
    "    predict_set =  navie_bayes(train_set, test_set)\n",
    "    accuracies.append(accuracy(actual_set,predict_set))\n",
    "print('model_accuracy:', np.mean(accuracies))"
   ]
  },
  {
   "cell_type": "code",
   "execution_count": null,
   "id": "3b4fb2b3",
   "metadata": {},
   "outputs": [],
   "source": []
  }
 ],
 "metadata": {
  "kernelspec": {
   "display_name": "Python 3 (ipykernel)",
   "language": "python",
   "name": "python3"
  },
  "language_info": {
   "codemirror_mode": {
    "name": "ipython",
    "version": 3
   },
   "file_extension": ".py",
   "mimetype": "text/x-python",
   "name": "python",
   "nbconvert_exporter": "python",
   "pygments_lexer": "ipython3",
   "version": "3.9.7"
  }
 },
 "nbformat": 4,
 "nbformat_minor": 5
}
